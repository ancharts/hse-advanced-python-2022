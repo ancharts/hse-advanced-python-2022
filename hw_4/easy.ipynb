{
 "cells": [
  {
   "cell_type": "code",
   "execution_count": 1,
   "id": "30c2382e",
   "metadata": {},
   "outputs": [
    {
     "name": "stdout",
     "output_type": "stream",
     "text": [
      "Overwriting fib.py\n"
     ]
    }
   ],
   "source": [
    "%%file fib.py\n",
    "def fib(n):\n",
    "    f0 = 1\n",
    "    f1 = 1\n",
    "    for i in range(n):\n",
    "        f1, f0 = f0 + f1, f1\n",
    "    return f0"
   ]
  },
  {
   "cell_type": "code",
   "execution_count": 2,
   "id": "b754873d",
   "metadata": {},
   "outputs": [],
   "source": [
    "from time import time\n",
    "from fib import fib\n",
    "def run_sync():\n",
    "    f = list(map(fib, [100000, 200000, 300000, 400000, 500000, 600000, 700000, 800000, 900000, 1000000]))\n",
    "start = time()\n",
    "run_sync()\n",
    "time_sync = time() - start"
   ]
  },
  {
   "cell_type": "code",
   "execution_count": 3,
   "id": "f219387e",
   "metadata": {},
   "outputs": [],
   "source": [
    "from concurrent.futures import ThreadPoolExecutor\n",
    "from fib import fib\n",
    "def run_threads():\n",
    "    with ThreadPoolExecutor(max_workers=10) as executor:\n",
    "        f = list(executor.map(fib, [100000, 200000, 300000, 400000, 500000, 600000, 700000, 800000, 900000, 1000000]))\n",
    "start = time()\n",
    "run_threads()\n",
    "time_threads = time() - start"
   ]
  },
  {
   "cell_type": "code",
   "execution_count": 4,
   "id": "07c9c93d",
   "metadata": {},
   "outputs": [],
   "source": [
    "from concurrent.futures import ProcessPoolExecutor\n",
    "from fib import fib\n",
    "def run_processes():\n",
    "     with ProcessPoolExecutor(max_workers=10) as executor:\n",
    "        f = list(executor.map(fib, [100000, 200000, 300000, 400000, 500000, 600000, 700000, 800000, 900000, 1000000]))\n",
    "start = time()\n",
    "run_processes()\n",
    "time_processes = time() - start   "
   ]
  },
  {
   "cell_type": "code",
   "execution_count": 5,
   "id": "839b6a44",
   "metadata": {},
   "outputs": [],
   "source": [
    "fout = open(\"artifacts/easy.txt\", 'w')\n",
    "print(f\"Time sync: {time_sync:.4f}s\", file=fout)\n",
    "print(f\"Time threads: {time_threads:.4f}s\", file=fout)\n",
    "print(f\"Time processes: {time_processes:.4f}s\", file=fout)\n",
    "fout.close()"
   ]
  }
 ],
 "metadata": {
  "kernelspec": {
   "display_name": "Python 3 (ipykernel)",
   "language": "python",
   "name": "python3"
  },
  "language_info": {
   "codemirror_mode": {
    "name": "ipython",
    "version": 3
   },
   "file_extension": ".py",
   "mimetype": "text/x-python",
   "name": "python",
   "nbconvert_exporter": "python",
   "pygments_lexer": "ipython3",
   "version": "3.8.9"
  }
 },
 "nbformat": 4,
 "nbformat_minor": 5
}
