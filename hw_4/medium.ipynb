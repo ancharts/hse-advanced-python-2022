{
 "cells": [
  {
   "cell_type": "code",
   "execution_count": 1,
   "id": "2eb43b0f",
   "metadata": {},
   "outputs": [
    {
     "name": "stdout",
     "output_type": "stream",
     "text": [
      "Overwriting integrate.py\n"
     ]
    }
   ],
   "source": [
    "%%file integrate.py\n",
    "from datetime import datetime\n",
    "\n",
    "def integrate(f, left, right, step):\n",
    "    acc, cur = 0, left\n",
    "    start = datetime.now()\n",
    "    while cur < right:\n",
    "        acc += f(cur) * min(right - cur, step)\n",
    "        cur += step\n",
    "    fin = datetime.now()\n",
    "    return acc, start, fin, left, right"
   ]
  },
  {
   "cell_type": "code",
   "execution_count": 2,
   "id": "908eda30",
   "metadata": {},
   "outputs": [],
   "source": [
    "from concurrent.futures import ThreadPoolExecutor, ProcessPoolExecutor\n",
    "from integrate import integrate\n",
    "\n",
    "def integrate_async(f, a, b, *, n_jobs=1, n_iter=1000, process=False, log=False):\n",
    "    logs, ans = [], []\n",
    "    step = (b - a) / n_iter\n",
    "    num = (b - a) / n_jobs\n",
    "    cur = a\n",
    "    \n",
    "    if process:\n",
    "        with ProcessPoolExecutor(max_workers=n_jobs) as executor:\n",
    "            res = 0\n",
    "            for i in range(n_jobs):\n",
    "                nxt = cur + num\n",
    "                ans.append(executor.submit(integrate, f, cur, min(nxt, b), step))\n",
    "                cur = nxt\n",
    "            for task in ans:\n",
    "                acc, start_time, end_time, left, right = task.result()\n",
    "                res += acc\n",
    "                logs.append((start_time, end_time, left, right))\n",
    "    else:\n",
    "        with ThreadPoolExecutor(max_workers=n_jobs) as executor:\n",
    "            res = 0\n",
    "            for i in range(n_jobs):\n",
    "                nxt = cur + num\n",
    "                ans.append(executor.submit(integrate, f, cur, min(nxt, b), step))\n",
    "                cur = nxt\n",
    "            for task in ans:\n",
    "                acc, start_time, end_time, left, right = task.result()\n",
    "                res += acc\n",
    "                logs.append((start_time, end_time, left, right))\n",
    "    \n",
    "    \n",
    "    if log:\n",
    "        fout = open(\"artifacts/log_integrate.txt\", \"w\")\n",
    "        for log in logs:\n",
    "            print(\"Integrate from {} to {} for values from {} to {}\\n\".format(*log), file=fout)\n",
    "        fout.close()\n",
    "        \n",
    "    return res"
   ]
  },
  {
   "cell_type": "code",
   "execution_count": 3,
   "id": "bbd77a32",
   "metadata": {},
   "outputs": [],
   "source": [
    "import math\n",
    "import multiprocessing as mp\n",
    "from time import time\n",
    "\n",
    "cpu_num = mp.cpu_count()\n",
    "fout = open('artifacts/medium.txt', 'w')\n",
    "for jobs in range(1, 2 * cpu_num + 1):\n",
    "    print(f'{jobs} threads:\\n', file = fout)\n",
    "    start = time()\n",
    "    result = integrate_async(math.cos, 0, math.pi / 2, n_iter=1000000, n_jobs=jobs)\n",
    "    print(f'Time: {time() - start} seconds', f'Result: {result}', file=fout, sep='\\n', end='\\n\\n')\n",
    "\n",
    "    print(f'{jobs} processes:\\n', file = fout)\n",
    "    start = time()\n",
    "    result = integrate_async(math.cos, 0, math.pi / 2, n_iter=1000000, n_jobs=jobs, process=True)\n",
    "    print(f'Time: {time() - start} seconds', f'Result: {result}', file=fout, sep='\\n', end='\\n\\n')\n",
    "    \n",
    "fout.close()"
   ]
  }
 ],
 "metadata": {
  "kernelspec": {
   "display_name": "Python 3 (ipykernel)",
   "language": "python",
   "name": "python3"
  },
  "language_info": {
   "codemirror_mode": {
    "name": "ipython",
    "version": 3
   },
   "file_extension": ".py",
   "mimetype": "text/x-python",
   "name": "python",
   "nbconvert_exporter": "python",
   "pygments_lexer": "ipython3",
   "version": "3.8.9"
  }
 },
 "nbformat": 4,
 "nbformat_minor": 5
}
